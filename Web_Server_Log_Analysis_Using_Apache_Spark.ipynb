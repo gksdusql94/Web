{
  "nbformat": 4,
  "nbformat_minor": 0,
  "metadata": {
    "kernelspec": {
      "display_name": "Python 3",
      "language": "python",
      "name": "python3"
    },
    "language_info": {
      "codemirror_mode": {
        "name": "ipython",
        "version": 3
      },
      "file_extension": ".py",
      "mimetype": "text/x-python",
      "name": "python",
      "nbconvert_exporter": "python",
      "pygments_lexer": "ipython3",
      "version": "3.9.5"
    },
    "colab": {
      "provenance": []
    }
  },
  "cells": [
    {
      "cell_type": "markdown",
      "metadata": {
        "id": "JLVpvUtS_X4R"
      },
      "source": [
        "version 1.0.0\n",
        "#![Spark Logo](http://spark-mooc.github.io/web-assets/images/ta_Spark-logo-small.png) + ![Python Logo](http://spark-mooc.github.io/web-assets/images/python-logo-master-v3-TM-flattened_small.png)\n",
        "# **Web Server Log Analysis with Apache Spark**\n",
        "\n",
        "####This lab will demonstrate how easy it is to perform web server log analysis with Apache Spark.\n",
        "\n",
        "####Server log analysis is an ideal use case for Spark.  It's a very large, common data source and contains a rich set of information.  Spark allows you to store your logs in files on disk cheaply, while still providing a quick and simple way to perform data analysis on them.  This homework will show you how to use Apache Spark on real-world text-based production logs and fully harness the power of that data.  Log data comes from many sources, such as web, file, and compute servers, application logs, user-generated content,  and can be used for monitoring servers, improving business and customer intelligence, building recommendation systems, fraud detection, and much more."
      ]
    },
    {
      "cell_type": "markdown",
      "metadata": {
        "id": "-ZWsw68Z_X4V"
      },
      "source": [
        "### How to complete this assignment\n",
        "\n",
        "####This assignment is broken up into sections with bite-sized examples for demonstrating Spark functionality for log processing. For each problem, you should start by thinking about the algorithm that you will use to *efficiently* process the log in a parallel, distributed manner. This means using the various [RDD](http://spark.apache.org/docs/latest/api/python/pyspark.html#pyspark.RDD) operations along with [`lambda` functions](https://docs.python.org/2/tutorial/controlflow.html#lambda-expressions) that are applied at each worker.\n",
        "\n",
        "####This assignment consists of 4 parts:\n",
        "#### *Part 0:* Set up Spark and initialize Spark context\n",
        "#### *Part 1*: Apache Web Server Log file format\n",
        "#### *Part 2*: Sample Analyses on the Web Server Log File\n",
        "#### *Part 3*: Analyzing Web Server Log File\n",
        "#### *Part 4*: Exploring 404 Response Codes"
      ]
    },
    {
      "cell_type": "markdown",
      "metadata": {
        "id": "qoBE0xqPNSwj"
      },
      "source": [
        "### Part 0: Set up Spark and initilize Spark context"
      ]
    },
    {
      "cell_type": "code",
      "metadata": {
        "id": "HP2QRh3E5qdV",
        "colab": {
          "base_uri": "https://localhost:8080/"
        },
        "outputId": "51cbf248-b655-4d8a-e193-1ea708d5eecc"
      },
      "source": [
        "!pip install pyspark\n",
        "!pip install -U -q PyDrive\n",
        "!apt install openjdk-8-jdk-headless -qq\n",
        "import os\n",
        "os.environ[\"JAVA_HOME\"] = \"/usr/lib/jvm/java-8-openjdk-amd64\"\n",
        "\n",
        "import pyspark\n",
        "from pyspark import SparkContext, SparkConf\n",
        "\n",
        "# create the session\n",
        "conf = SparkConf().set(\"spark.ui.port\", \"4050\")\n",
        "\n",
        "# create the context\n",
        "sc = pyspark.SparkContext(conf=conf)"
      ],
      "execution_count": null,
      "outputs": [
        {
          "output_type": "stream",
          "name": "stdout",
          "text": [
            "Collecting pyspark\n",
            "  Downloading pyspark-3.4.1.tar.gz (310.8 MB)\n",
            "\u001b[2K     \u001b[90m━━━━━━━━━━━━━━━━━━━━━━━━━━━━━━━━━━━━━━━\u001b[0m \u001b[32m310.8/310.8 MB\u001b[0m \u001b[31m2.0 MB/s\u001b[0m eta \u001b[36m0:00:00\u001b[0m\n",
            "\u001b[?25h  Preparing metadata (setup.py) ... \u001b[?25l\u001b[?25hdone\n",
            "Requirement already satisfied: py4j==0.10.9.7 in /usr/local/lib/python3.10/dist-packages (from pyspark) (0.10.9.7)\n",
            "Building wheels for collected packages: pyspark\n",
            "  Building wheel for pyspark (setup.py) ... \u001b[?25l\u001b[?25hdone\n",
            "  Created wheel for pyspark: filename=pyspark-3.4.1-py2.py3-none-any.whl size=311285387 sha256=eb811fb33099e34e9d6e3d6df476242a54e0a3c602624601f2ebfe11dd6d5840\n",
            "  Stored in directory: /root/.cache/pip/wheels/0d/77/a3/ff2f74cc9ab41f8f594dabf0579c2a7c6de920d584206e0834\n",
            "Successfully built pyspark\n",
            "Installing collected packages: pyspark\n",
            "Successfully installed pyspark-3.4.1\n",
            "The following additional packages will be installed:\n",
            "  libxtst6 openjdk-8-jre-headless\n",
            "Suggested packages:\n",
            "  openjdk-8-demo openjdk-8-source libnss-mdns fonts-dejavu-extra fonts-nanum\n",
            "  fonts-ipafont-gothic fonts-ipafont-mincho fonts-wqy-microhei\n",
            "  fonts-wqy-zenhei fonts-indic\n",
            "The following NEW packages will be installed:\n",
            "  libxtst6 openjdk-8-jdk-headless openjdk-8-jre-headless\n",
            "0 upgraded, 3 newly installed, 0 to remove and 17 not upgraded.\n",
            "Need to get 39.7 MB of archives.\n",
            "After this operation, 144 MB of additional disk space will be used.\n",
            "Selecting previously unselected package libxtst6:amd64.\n",
            "(Reading database ... 120901 files and directories currently installed.)\n",
            "Preparing to unpack .../libxtst6_2%3a1.2.3-1build4_amd64.deb ...\n",
            "Unpacking libxtst6:amd64 (2:1.2.3-1build4) ...\n",
            "Selecting previously unselected package openjdk-8-jre-headless:amd64.\n",
            "Preparing to unpack .../openjdk-8-jre-headless_8u382-ga-1~22.04.1_amd64.deb ...\n",
            "Unpacking openjdk-8-jre-headless:amd64 (8u382-ga-1~22.04.1) ...\n",
            "Selecting previously unselected package openjdk-8-jdk-headless:amd64.\n",
            "Preparing to unpack .../openjdk-8-jdk-headless_8u382-ga-1~22.04.1_amd64.deb ...\n",
            "Unpacking openjdk-8-jdk-headless:amd64 (8u382-ga-1~22.04.1) ...\n",
            "Setting up libxtst6:amd64 (2:1.2.3-1build4) ...\n",
            "Setting up openjdk-8-jre-headless:amd64 (8u382-ga-1~22.04.1) ...\n",
            "update-alternatives: using /usr/lib/jvm/java-8-openjdk-amd64/jre/bin/orbd to provide /usr/bin/orbd (orbd) in auto mode\n",
            "update-alternatives: using /usr/lib/jvm/java-8-openjdk-amd64/jre/bin/servertool to provide /usr/bin/servertool (servertool) in auto mode\n",
            "update-alternatives: using /usr/lib/jvm/java-8-openjdk-amd64/jre/bin/tnameserv to provide /usr/bin/tnameserv (tnameserv) in auto mode\n",
            "Setting up openjdk-8-jdk-headless:amd64 (8u382-ga-1~22.04.1) ...\n",
            "update-alternatives: using /usr/lib/jvm/java-8-openjdk-amd64/bin/clhsdb to provide /usr/bin/clhsdb (clhsdb) in auto mode\n",
            "update-alternatives: using /usr/lib/jvm/java-8-openjdk-amd64/bin/extcheck to provide /usr/bin/extcheck (extcheck) in auto mode\n",
            "update-alternatives: using /usr/lib/jvm/java-8-openjdk-amd64/bin/hsdb to provide /usr/bin/hsdb (hsdb) in auto mode\n",
            "update-alternatives: using /usr/lib/jvm/java-8-openjdk-amd64/bin/idlj to provide /usr/bin/idlj (idlj) in auto mode\n",
            "update-alternatives: using /usr/lib/jvm/java-8-openjdk-amd64/bin/javah to provide /usr/bin/javah (javah) in auto mode\n",
            "update-alternatives: using /usr/lib/jvm/java-8-openjdk-amd64/bin/jhat to provide /usr/bin/jhat (jhat) in auto mode\n",
            "update-alternatives: using /usr/lib/jvm/java-8-openjdk-amd64/bin/jsadebugd to provide /usr/bin/jsadebugd (jsadebugd) in auto mode\n",
            "update-alternatives: using /usr/lib/jvm/java-8-openjdk-amd64/bin/native2ascii to provide /usr/bin/native2ascii (native2ascii) in auto mode\n",
            "update-alternatives: using /usr/lib/jvm/java-8-openjdk-amd64/bin/schemagen to provide /usr/bin/schemagen (schemagen) in auto mode\n",
            "update-alternatives: using /usr/lib/jvm/java-8-openjdk-amd64/bin/wsgen to provide /usr/bin/wsgen (wsgen) in auto mode\n",
            "update-alternatives: using /usr/lib/jvm/java-8-openjdk-amd64/bin/wsimport to provide /usr/bin/wsimport (wsimport) in auto mode\n",
            "update-alternatives: using /usr/lib/jvm/java-8-openjdk-amd64/bin/xjc to provide /usr/bin/xjc (xjc) in auto mode\n",
            "Processing triggers for libc-bin (2.35-0ubuntu3.1) ...\n",
            "/sbin/ldconfig.real: /usr/local/lib/libtbb.so.12 is not a symbolic link\n",
            "\n",
            "/sbin/ldconfig.real: /usr/local/lib/libtbbmalloc_proxy.so.2 is not a symbolic link\n",
            "\n",
            "/sbin/ldconfig.real: /usr/local/lib/libtbbmalloc.so.2 is not a symbolic link\n",
            "\n",
            "/sbin/ldconfig.real: /usr/local/lib/libtbbbind_2_0.so.3 is not a symbolic link\n",
            "\n",
            "/sbin/ldconfig.real: /usr/local/lib/libtbbbind.so.3 is not a symbolic link\n",
            "\n",
            "/sbin/ldconfig.real: /usr/local/lib/libtbbbind_2_5.so.3 is not a symbolic link\n",
            "\n"
          ]
        }
      ]
    },
    {
      "cell_type": "markdown",
      "metadata": {
        "id": "egceRfnG_X4W"
      },
      "source": [
        "### **Part 1: Apache Web Server Log file format**\n",
        "####The log files that we use for this assignment are in the [Apache Common Log Format (CLF)](http://httpd.apache.org/docs/1.3/logs.html#common). The log file entries produced in CLF will look something like this:\n",
        "`127.0.0.1 - - [01/Aug/1995:00:00:01 -0400] \"GET /images/launch-logo.gif HTTP/1.0\" 200 1839`\n",
        "\n",
        "####Each part of this log entry is described below.\n",
        "* `127.0.0.1`\n",
        "####This is the IP address (or host name, if available) of the client (remote host) which made the request to the server.\n",
        "\n",
        "* `-`\n",
        "####The \"hyphen\" in the output indicates that the requested piece of information (user identity from remote machine) is not available.\n",
        "\n",
        "* `-`\n",
        "####The \"hyphen\" in the output indicates that the requested piece of information (user identity from local logon) is not available.\n",
        "\n",
        "* `[01/Aug/1995:00:00:01 -0400]`\n",
        "####The time that the server finished processing the request. The format is:\n",
        "`[day/month/year:hour:minute:second timezone]`\n",
        "  * ####day = 2 digits\n",
        "  * ####month = 3 letters\n",
        "  * ####year = 4 digits\n",
        "  * ####hour = 2 digits\n",
        "  * ####minute = 2 digits\n",
        "  * ####second = 2 digits\n",
        "  * ####zone = (\\+ | \\-) 4 digits\n",
        "\n",
        "* `\"GET /images/launch-logo.gif HTTP/1.0\"`\n",
        "####This is the first line of the request string from the client. It consists of a three components: the request method (e.g., `GET`, `POST`, etc.), the endpoint (a [Uniform Resource Identifier](http://en.wikipedia.org/wiki/Uniform_resource_identifier)), and the client protocol version.\n",
        "\n",
        "* `200`\n",
        "####This is the status code that the server sends back to the client. This information is very valuable, because it reveals whether the request resulted in a successful response (codes beginning in 2), a redirection (codes beginning in 3), an error caused by the client (codes beginning in 4), or an error in the server (codes beginning in 5). The full list of possible status codes can be found in the HTTP specification ([RFC 2616](https://www.ietf.org/rfc/rfc2616.txt) section 10).\n",
        "\n",
        "* `1839`\n",
        "####The last entry indicates the size of the object returned to the client, not including the response headers. If no content was returned to the client, this value will be \"-\" (or sometimes 0).\n",
        "\n",
        "####Note that log files contain information supplied directly by the client, without escaping. Therefore, it is possible for malicious clients to insert control-characters in the log files, *so care must be taken in dealing with raw logs.*\n",
        "\n",
        "### NASA-HTTP Web Server Log\n",
        "####For this assignment, we will use a data set from NASA Kennedy Space Center WWW server in Florida. The full data set is freely available (http://ita.ee.lbl.gov/html/contrib/NASA-HTTP.html) and contains two month's of all HTTP requests. We are using a subset that only contains several days worth of requests."
      ]
    },
    {
      "cell_type": "markdown",
      "metadata": {
        "id": "_Aaotga5_X4X"
      },
      "source": [
        "### **(1a) Parsing Each Log Line**\n",
        "####Using the CLF as defined above, we create a regular expression pattern to extract the nine fields of the log line using the Python regular expression [`search` function](https://docs.python.org/2/library/re.html#regular-expression-objects). The function returns a pair consisting of a Row object and 1. If the log line fails to match the regular expression, the function returns a pair consisting of the log line string and 0. A '-' value in the content size field is cleaned up by substituting it with 0. The function converts the log line's date string into a Python `datetime` object using the given `parse_apache_time` function."
      ]
    },
    {
      "cell_type": "code",
      "metadata": {
        "id": "iKNSdKQ5_X4Y"
      },
      "source": [
        "import re\n",
        "import datetime\n",
        "\n",
        "from pyspark.sql import Row\n",
        "\n",
        "month_map = {'Jan': 1, 'Feb': 2, 'Mar':3, 'Apr':4, 'May':5, 'Jun':6, 'Jul':7,\n",
        "    'Aug':8,  'Sep': 9, 'Oct':10, 'Nov': 11, 'Dec': 12}\n",
        "\n",
        "def parse_apache_time(s):\n",
        "    \"\"\" Convert Apache time format into a Python datetime object\n",
        "    Args:\n",
        "        s (str): date and time in Apache time format\n",
        "    Returns:\n",
        "        datetime: datetime object (ignore timezone for now)\n",
        "    \"\"\"\n",
        "    return datetime.datetime(int(s[7:11]),\n",
        "                             month_map[s[3:6]],\n",
        "                             int(s[0:2]),\n",
        "                             int(s[12:14]),\n",
        "                             int(s[15:17]),\n",
        "                             int(s[18:20]))\n",
        "\n",
        "\n",
        "def parseApacheLogLine(logline):\n",
        "    \"\"\" Parse a line in the Apache Common Log format\n",
        "    Args:\n",
        "        logline (str): a line of text in the Apache Common Log format\n",
        "    Returns:\n",
        "        tuple: either a dictionary containing the parts of the Apache Access Log and 1,\n",
        "               or the original invalid log line and 0\n",
        "    \"\"\"\n",
        "    match = re.search(APACHE_ACCESS_LOG_PATTERN, logline)\n",
        "    if match is None:\n",
        "        return (logline, 0)\n",
        "    size_field = match.group(9)\n",
        "    if size_field == '-':\n",
        "        size = int(0)\n",
        "    else:\n",
        "        size = int(match.group(9))\n",
        "    return (Row(\n",
        "        host          = match.group(1),\n",
        "        client_identd = match.group(2),\n",
        "        user_id       = match.group(3),\n",
        "        date_time     = parse_apache_time(match.group(4)),\n",
        "        method        = match.group(5),\n",
        "        endpoint      = match.group(6),\n",
        "        protocol      = match.group(7),\n",
        "        response_code = int(match.group(8)),\n",
        "        content_size  = size\n",
        "    ), 1)"
      ],
      "execution_count": null,
      "outputs": []
    },
    {
      "cell_type": "code",
      "metadata": {
        "id": "NUG8gJAc_X4a"
      },
      "source": [
        "# A regular expression pattern to extract fields from the log line\n",
        "APACHE_ACCESS_LOG_PATTERN = '^(\\S+) (\\S+) (\\S+) \\[([\\w:/]+\\s[+\\-]\\d{4})\\] \"(\\S+) (\\S+)\\s*(\\S*)\" (\\d{3}) (\\S+)'"
      ],
      "execution_count": null,
      "outputs": []
    },
    {
      "cell_type": "markdown",
      "metadata": {
        "id": "lnxnYaNx_X4a"
      },
      "source": [
        "### **(1b) Configuration and Initial RDD Creation**\n",
        "####We are ready to specify the input log file and create an RDD containing the parsed log file data. The log file has already been downloaded for you.\n",
        "\n",
        "####To create the primary RDD that we'll use in the rest of this assignment, we first load the text file using [`sc.textfile(logFile)`](http://spark.apache.org/docs/latest/api/python/pyspark.html#pyspark.SparkContext.textFile) to convert each line of the file into an element in an RDD.\n",
        "####Next, we use [`map(parseApacheLogLine)`](http://spark.apache.org/docs/latest/api/python/pyspark.html#pyspark.RDD.map) to apply the parse function to each element (that is, a line from the log file) in the RDD and turn each line into a pair [`Row` object](http://spark.apache.org/docs/latest/api/python/pyspark.sql.html#pyspark.sql.Row).\n",
        "####Finally, we cache the RDD in memory since we'll use it throughout this notebook."
      ]
    },
    {
      "cell_type": "code",
      "metadata": {
        "id": "mZIs4E-u_X4b",
        "colab": {
          "base_uri": "https://localhost:8080/",
          "height": 238
        },
        "outputId": "7630057c-3d45-45de-be93-7574ae2e6f94"
      },
      "source": [
        "# Just run this code\n",
        "!pip install wget\n",
        "import wget\n",
        "url = 'https://phantom.cs.qc.cuny.edu/li/bda/apache.access.log.PROJECT'\n",
        "wget.download(url, 'apache.access.log.PROJECT')"
      ],
      "execution_count": null,
      "outputs": [
        {
          "output_type": "stream",
          "name": "stdout",
          "text": [
            "Collecting wget\n",
            "  Downloading wget-3.2.zip (10 kB)\n",
            "  Preparing metadata (setup.py) ... \u001b[?25l\u001b[?25hdone\n",
            "Building wheels for collected packages: wget\n",
            "  Building wheel for wget (setup.py) ... \u001b[?25l\u001b[?25hdone\n",
            "  Created wheel for wget: filename=wget-3.2-py3-none-any.whl size=9655 sha256=d4fb422f55e6a8b06a1925556fe36758e4a933573102d9d413c7b2d0e92ad341\n",
            "  Stored in directory: /root/.cache/pip/wheels/8b/f1/7f/5c94f0a7a505ca1c81cd1d9208ae2064675d97582078e6c769\n",
            "Successfully built wget\n",
            "Installing collected packages: wget\n",
            "Successfully installed wget-3.2\n"
          ]
        },
        {
          "output_type": "execute_result",
          "data": {
            "text/plain": [
              "'apache.access.log.PROJECT'"
            ],
            "application/vnd.google.colaboratory.intrinsic+json": {
              "type": "string"
            }
          },
          "metadata": {},
          "execution_count": 4
        }
      ]
    },
    {
      "cell_type": "code",
      "metadata": {
        "id": "h3covX6ER1mc",
        "colab": {
          "base_uri": "https://localhost:8080/"
        },
        "outputId": "8779c2e4-8a15-43d9-8586-5d4f4dac1af5"
      },
      "source": [
        "import os\n",
        "logFile = \"apache.access.log.PROJECT\"\n",
        "\n",
        "def parseLogs():\n",
        "    \"\"\" Read and parse log file \"\"\"\n",
        "    parsed_logs = (sc\n",
        "                   .textFile(logFile)\n",
        "                   .map(parseApacheLogLine)\n",
        "                   .cache())\n",
        "\n",
        "    access_logs = (parsed_logs\n",
        "                   .filter(lambda s: s[1] == 1)\n",
        "                   .map(lambda s: s[0])\n",
        "                   .cache())\n",
        "\n",
        "    failed_logs = (parsed_logs\n",
        "                   .filter(lambda s: s[1] == 0)\n",
        "                   .map(lambda s: s[0]))\n",
        "    failed_logs_count = failed_logs.count()\n",
        "    if failed_logs_count > 0:\n",
        "        print('Number of invalid logline: %d' % failed_logs.count())\n",
        "        for line in failed_logs.take(20):\n",
        "            print('Invalid logline: %s' % line)\n",
        "\n",
        "    print('Read %d lines, successfully parsed %d lines, failed to parse %d lines' % (parsed_logs.count(), access_logs.count(), failed_logs.count()))\n",
        "    return parsed_logs, access_logs, failed_logs\n",
        "\n",
        "parsed_logs, access_logs, failed_logs = parseLogs()"
      ],
      "execution_count": null,
      "outputs": [
        {
          "output_type": "stream",
          "name": "stdout",
          "text": [
            "Number of invalid logline: 108\n",
            "Invalid logline: ix-sac6-20.ix.netcom.com - - [08/Aug/1995:14:43:39 -0400] \"GET / HTTP/1.0 \" 200 7131\n",
            "Invalid logline: ix-sac6-20.ix.netcom.com - - [08/Aug/1995:14:43:57 -0400] \"GET /images/ksclogo-medium.gif HTTP/1.0 \" 200 5866\n",
            "Invalid logline: ix-sac6-20.ix.netcom.com - - [08/Aug/1995:14:44:07 -0400] \"GET /images/NASA-logosmall.gif HTTP/1.0 \" 200 786\n",
            "Invalid logline: ix-sac6-20.ix.netcom.com - - [08/Aug/1995:14:44:11 -0400] \"GET /images/MOSAIC-logosmall.gif HTTP/1.0 \" 200 363\n",
            "Invalid logline: ix-sac6-20.ix.netcom.com - - [08/Aug/1995:14:44:13 -0400] \"GET /images/USA-logosmall.gif HTTP/1.0 \" 200 234\n",
            "Invalid logline: ix-sac6-20.ix.netcom.com - - [08/Aug/1995:14:44:15 -0400] \"GET /images/WORLD-logosmall.gif HTTP/1.0 \" 200 669\n",
            "Invalid logline: ix-sac6-20.ix.netcom.com - - [08/Aug/1995:14:44:31 -0400] \"GET /shuttle/countdown/ HTTP/1.0 \" 200 4673\n",
            "Invalid logline: ix-sac6-20.ix.netcom.com - - [08/Aug/1995:14:44:41 -0400] \"GET /shuttle/missions/sts-69/count69.gif HTTP/1.0 \" 200 46053\n",
            "Invalid logline: ix-sac6-20.ix.netcom.com - - [08/Aug/1995:14:45:34 -0400] \"GET /images/KSC-logosmall.gif HTTP/1.0 \" 200 1204\n",
            "Invalid logline: ix-sac6-20.ix.netcom.com - - [08/Aug/1995:14:45:46 -0400] \"GET /cgi-bin/imagemap/countdown69?293,287 HTTP/1.0 \" 302 85\n",
            "Invalid logline: ix-sac6-20.ix.netcom.com - - [08/Aug/1995:14:45:48 -0400] \"GET /htbin/cdt_main.pl HTTP/1.0 \" 200 3714\n",
            "Invalid logline: ix-sac6-20.ix.netcom.com - - [08/Aug/1995:14:45:52 -0400] \"GET /shuttle/countdown/images/countclock.gif HTTP/1.0 \" 200 13994\n",
            "Invalid logline: ix-li1-14.ix.netcom.com - - [08/Aug/1995:14:46:22 -0400] \"GET / HTTP/1.0 \" 200 7131\n",
            "Invalid logline: ix-li1-14.ix.netcom.com - - [08/Aug/1995:14:46:29 -0400] \"GET /images/ksclogo-medium.gif HTTP/1.0 \" 200 5866\n",
            "Invalid logline: ix-li1-14.ix.netcom.com - - [08/Aug/1995:14:46:35 -0400] \"GET /images/NASA-logosmall.gif HTTP/1.0 \" 200 786\n",
            "Invalid logline: ix-li1-14.ix.netcom.com - - [08/Aug/1995:14:46:37 -0400] \"GET /images/MOSAIC-logosmall.gif HTTP/1.0 \" 200 363\n",
            "Invalid logline: ix-li1-14.ix.netcom.com - - [08/Aug/1995:14:46:38 -0400] \"GET /images/USA-logosmall.gif HTTP/1.0 \" 200 234\n",
            "Invalid logline: ix-li1-14.ix.netcom.com - - [08/Aug/1995:14:46:40 -0400] \"GET /images/WORLD-logosmall.gif HTTP/1.0 \" 200 669\n",
            "Invalid logline: ix-li1-14.ix.netcom.com - - [08/Aug/1995:14:47:41 -0400] \"GET /shuttle/missions/sts-70/mission-sts-70.html HTTP/1.0 \" 200 20304\n",
            "Invalid logline: ix-sac6-20.ix.netcom.com - - [08/Aug/1995:14:47:48 -0400] \"GET /shuttle/countdown/count.html HTTP/1.0 \" 200 73231\n",
            "Read 1043177 lines, successfully parsed 1043069 lines, failed to parse 108 lines\n"
          ]
        }
      ]
    },
    {
      "cell_type": "markdown",
      "metadata": {
        "id": "4zGPGkS5_X4c"
      },
      "source": [
        "### **(1c) Data Cleaning**\n",
        "#### Notice that there are a large number of log lines that failed to parse. Examine the sample of invalid lines and compare them to the correctly parsed line, an example is included below. Based on your observations, alter the `APACHE_ACCESS_LOG_PATTERN` regular expression below so that the failed lines will correctly parse, and press `Shift-Enter` to rerun `parseLogs()`.\n",
        "\n",
        "`127.0.0.1 - - [01/Aug/1995:00:00:01 -0400] \"GET /images/launch-logo.gif HTTP/1.0\" 200 1839`\n",
        "\n",
        "#### If you not familar with Python regular expression [`search` function](https://docs.python.org/2/library/re.html#regular-expression-objects), now would be a good time to check up on the [documentation](https://developers.google.com/edu/python/regular-expressions). One tip that might be useful is to use an online tester like http://pythex.org or http://www.pythonregex.com. To use it, copy and paste the regular expression string below (located between the single quotes ') and test it against one of the 'Invalid logline' above."
      ]
    },
    {
      "cell_type": "code",
      "metadata": {
        "id": "MC-ef1RQ_X4e",
        "colab": {
          "base_uri": "https://localhost:8080/"
        },
        "outputId": "08b836ce-8ad3-4f0e-ea37-f44e141a0d22"
      },
      "source": [
        "\n",
        "\n",
        "# This was originally '^(\\S+) (\\S+) (\\S+) \\[([\\w:/]+\\s[+\\-]\\d{4})\\] \"(\\S+) (\\S+)\\s*(\\S*)\" (\\d{3}) (\\S+)'\n",
        "APACHE_ACCESS_LOG_PATTERN = '^(\\S+) (\\S+) (\\S+) \\[([\\w:/]+\\s[+\\-]\\d{4})\\] \"(\\S+) (\\S+)\\s*(\\S*)\\s*\" (\\d{3}) (\\S+)'\n",
        "\n",
        "parsed_logs, access_logs, failed_logs = parseLogs()"
      ],
      "execution_count": null,
      "outputs": [
        {
          "output_type": "stream",
          "name": "stdout",
          "text": [
            "Read 1043177 lines, successfully parsed 1043177 lines, failed to parse 0 lines\n"
          ]
        }
      ]
    },
    {
      "cell_type": "code",
      "metadata": {
        "id": "wvFq9dV2W25X"
      },
      "source": [
        "import hashlib\n",
        "\n",
        "class TestFailure(Exception):\n",
        "  pass\n",
        "class PrivateTestFailure(Exception):\n",
        "  pass\n",
        "\n",
        "class Test(object):\n",
        "  passed = 0\n",
        "  numTests = 0\n",
        "  failFast = False\n",
        "  private = False\n",
        "\n",
        "  @classmethod\n",
        "  def setFailFast(cls):\n",
        "    cls.failFast = True\n",
        "\n",
        "  @classmethod\n",
        "  def setPrivateMode(cls):\n",
        "    cls.private = True\n",
        "\n",
        "  @classmethod\n",
        "  def assertTrue(cls, result, msg=\"\"):\n",
        "    cls.numTests += 1\n",
        "    if result == True:\n",
        "      cls.passed += 1\n",
        "      print(\"1 test passed.\")\n",
        "    else:\n",
        "      print(\"1 test failed. \" + msg)\n",
        "      if cls.failFast:\n",
        "        if cls.private:\n",
        "          raise PrivateTestFailure(msg)\n",
        "        else:\n",
        "          raise TestFailure(msg)\n",
        "\n",
        "  @classmethod\n",
        "  def assertEquals(cls, var, val, msg=\"\"):\n",
        "    cls.assertTrue(var == val, msg)\n",
        "\n",
        "  @classmethod\n",
        "  def assertEqualsHashed(cls, var, hashed_val, msg=\"\"):\n",
        "    cls.assertEquals(cls._hash(var), hashed_val, msg)\n",
        "\n",
        "  @classmethod\n",
        "  def printStats(cls):\n",
        "    print(\"{0} / {1} test(s) passed.\".format(cls.passed, cls.numTests))\n",
        "\n",
        "  @classmethod\n",
        "  def _hash(cls, x):\n",
        "    return hashlib.sha1(str(x)).hexdigest()"
      ],
      "execution_count": null,
      "outputs": []
    },
    {
      "cell_type": "code",
      "metadata": {
        "id": "HTH-1n-u_X4e",
        "colab": {
          "base_uri": "https://localhost:8080/"
        },
        "outputId": "a53c0d1e-757c-4b82-8c71-8f057e7d724b"
      },
      "source": [
        "# TEST Data cleaning (1c)\n",
        "Test.assertEquals(failed_logs.count(), 0, 'incorrect failed_logs.count()')\n",
        "Test.assertEquals(parsed_logs.count(), 1043177 , 'incorrect parsed_logs.count()')\n",
        "Test.assertEquals(access_logs.count(), parsed_logs.count(), 'incorrect access_logs.count()')"
      ],
      "execution_count": null,
      "outputs": [
        {
          "output_type": "stream",
          "name": "stdout",
          "text": [
            "1 test passed.\n",
            "1 test passed.\n",
            "1 test passed.\n"
          ]
        }
      ]
    },
    {
      "cell_type": "markdown",
      "metadata": {
        "id": "lIa-3QJi_X4f"
      },
      "source": [
        "### **Part 2: Sample Analyses on the Web Server Log File**\n",
        "\n",
        "####Now that we have an RDD containing the log file as a set of Row objects, we can perform various analyses.\n",
        "\n",
        "#### **(2a) Example: Content Size Statistics**\n",
        "\n",
        "####Let's compute some statistics about the sizes of content being returned by the web server. In particular, we'd like to know what are the average, minimum, and maximum content sizes.\n",
        "\n",
        "####We can compute the statistics by applying a `map` to the `access_logs` RDD. The `lambda` function we want for the map is to extract the `content_size` field from the RDD. The map produces a new RDD containing only the `content_sizes` (one element for each Row object in the `access_logs` RDD). To compute the minimum and maximum statistics, we can use [`min()`](http://spark.apache.org/docs/latest/api/python/pyspark.html#pyspark.RDD.min) and [`max()`](http://spark.apache.org/docs/latest/api/python/pyspark.html#pyspark.RDD.max) functions on the new RDD. We can compute the average statistic by using the [`reduce`](http://spark.apache.org/docs/latest/api/python/pyspark.html#pyspark.RDD.reduce) function with a `lambda` function that sums the two inputs, which represent two elements from the new RDD that are being reduced together. The result of the `reduce()` is the total content size from the log and it is to be divided by the number of requests as determined using the [`count()`](http://spark.apache.org/docs/latest/api/python/pyspark.html#pyspark.RDD.count) function on the new RDD."
      ]
    },
    {
      "cell_type": "code",
      "metadata": {
        "id": "-u1mQNj3_X4f",
        "colab": {
          "base_uri": "https://localhost:8080/"
        },
        "outputId": "ec96d48a-1959-47a7-9798-ca8c6be2b526"
      },
      "source": [
        "# Calculate statistics based on the content size.\n",
        "content_sizes = access_logs.map(lambda log: log.content_size).cache()\n",
        "print('Content Size Avg: %i, Min: %i, Max: %s' % (\n",
        "    content_sizes.reduce(lambda a, b : a + b) / content_sizes.count(),\n",
        "    content_sizes.min(),\n",
        "    content_sizes.max()))"
      ],
      "execution_count": null,
      "outputs": [
        {
          "output_type": "stream",
          "name": "stdout",
          "text": [
            "Content Size Avg: 17531, Min: 0, Max: 3421948\n"
          ]
        }
      ]
    },
    {
      "cell_type": "markdown",
      "metadata": {
        "id": "ZXwMV9f0_X4g"
      },
      "source": [
        "#### **(2b) Example: Response Code Analysis**\n",
        "####Next, lets look at the response codes that appear in the log. As with the content size analysis, first we create a new RDD by using a `lambda` function to extract the `response_code` field from the `access_logs` RDD. The difference here is that we will use a [pair tuple](https://docs.python.org/2/tutorial/datastructures.html?highlight=tuple#tuples-and-sequences) instead of just the field itself. Using a pair tuple consisting of the response code and 1 will let us count how many records have a particular response code. Using the new RDD, we perform a [`reduceByKey`](http://spark.apache.org/docs/latest/api/python/pyspark.html#pyspark.RDD.reduceByKey) function. `reduceByKey` performs a reduce on a per-key basis by applying the `lambda` function to each element, pairwise with the same key. We use the simple `lambda` function of adding the two values. Then, we cache the resulting RDD and create a list by using the [`take`](http://spark.apache.org/docs/latest/api/python/pyspark.html#pyspark.RDD.take) function."
      ]
    },
    {
      "cell_type": "code",
      "metadata": {
        "id": "sZTm1KlF_X4g",
        "colab": {
          "base_uri": "https://localhost:8080/"
        },
        "outputId": "28920f42-6380-49de-e999-4229e8f90e8b"
      },
      "source": [
        "# Response Code to Count\n",
        "responseCodeToCount = (access_logs\n",
        "                       .map(lambda log: (log.response_code, 1))\n",
        "                       .reduceByKey(lambda a, b : a + b)\n",
        "                       .cache())\n",
        "responseCodeToCountList = responseCodeToCount.take(100)\n",
        "print('Found %d response codes' % len(responseCodeToCountList))\n",
        "print('Response Code Counts: %s' % responseCodeToCountList)\n",
        "assert len(responseCodeToCountList) == 7\n",
        "assert sorted(responseCodeToCountList) == [(200, 940847), (302, 16244), (304, 79824), (403, 58), (404, 6185), (500, 2), (501, 17)]"
      ],
      "execution_count": null,
      "outputs": [
        {
          "output_type": "stream",
          "name": "stdout",
          "text": [
            "Found 7 response codes\n",
            "Response Code Counts: [(200, 940847), (304, 79824), (404, 6185), (500, 2), (501, 17), (302, 16244), (403, 58)]\n"
          ]
        }
      ]
    },
    {
      "cell_type": "markdown",
      "metadata": {
        "id": "gmVSmuAn_X4h"
      },
      "source": [
        "#### **(2c) Example: Response Code Graphing with `matplotlib`**\n",
        "####Now, lets visualize the results from the last example. We can visualize the results from the last example using [`matplotlib`](http://matplotlib.org/). First we need to extract the labels and fractions for the graph. We do this with two separate `map` functions with a `lambda` functions. The first `map` function extracts a list of of the response code values, and the second `map` function extracts a list of the per response code counts  divided by the total size of the access logs. Next, we create a figure with `figure()` constructor and use the `pie()` method to create the pie plot."
      ]
    },
    {
      "cell_type": "code",
      "metadata": {
        "id": "RyKASuFX_X4h",
        "colab": {
          "base_uri": "https://localhost:8080/"
        },
        "outputId": "e5901bd4-1517-41fe-9a43-64f7a338daf9"
      },
      "source": [
        "labels = responseCodeToCount.map(lambda t: t[0]).collect()\n",
        "print(labels)\n",
        "count = access_logs.count()\n",
        "fracs = responseCodeToCount.map(lambda t: (float(t[1]) / count)).collect()\n",
        "print(fracs)"
      ],
      "execution_count": null,
      "outputs": [
        {
          "output_type": "stream",
          "name": "stdout",
          "text": [
            "[200, 304, 404, 500, 501, 302, 403]\n",
            "[0.9019054292799784, 0.07652009198822443, 0.005929003419362198, 1.9172201841106543e-06, 1.629637156494056e-05, 0.015571662335346735, 5.5599385339208974e-05]\n"
          ]
        }
      ]
    },
    {
      "cell_type": "code",
      "metadata": {
        "id": "6F0PNQo0_X4h",
        "colab": {
          "base_uri": "https://localhost:8080/",
          "height": 418
        },
        "outputId": "54fe58ba-b980-4431-c808-718ec9c9e7f2"
      },
      "source": [
        "import matplotlib.pyplot as plt\n",
        "\n",
        "\n",
        "def pie_pct_format(value):\n",
        "    \"\"\" Determine the appropriate format string for the pie chart percentage label\n",
        "    Args:\n",
        "        value: value of the pie slice\n",
        "    Returns:\n",
        "        str: formated string label; if the slice is too small to fit, returns an empty string for label\n",
        "    \"\"\"\n",
        "    return '' if value < 7 else '%.0f%%' % value\n",
        "\n",
        "fig = plt.figure(figsize=(4.5, 4.5), facecolor='white', edgecolor='white')\n",
        "colors = ['yellowgreen', 'lightskyblue', 'gold', 'purple', 'lightcoral', 'yellow', 'black']\n",
        "explode = (0.05, 0.05, 0.1, 0, 0, 0, 0)\n",
        "patches, texts, autotexts = plt.pie(fracs, labels=labels, colors=colors,\n",
        "                                    explode=explode, autopct=pie_pct_format,\n",
        "                                    shadow=False,  startangle=125)\n",
        "for text, autotext in zip(texts, autotexts):\n",
        "    if autotext.get_text() == '':\n",
        "        text.set_text('')  # If the slice is small to fit, don't show a text label\n",
        "plt.legend(labels, loc=(0.80, -0.1), shadow=True)\n",
        "pass"
      ],
      "execution_count": null,
      "outputs": [
        {
          "output_type": "display_data",
          "data": {
            "text/plain": [
              "<Figure size 450x450 with 1 Axes>"
            ],
            "image/png": "[encoded data removed]"
          },
          "metadata": {}
        }
      ]
    },
    {
      "cell_type": "markdown",
      "metadata": {
        "id": "5c18c1Ge_X4h"
      },
      "source": [
        "#### **(2d) Example: Frequent Hosts**\n",
        "####Let's look at hosts that have accessed the server multiple times (e.g., more than ten times). As with the response code analysis in (2b), first we create a new RDD by using a `lambda` function to extract the `host` field from the `access_logs` RDD using a pair tuple consisting of the host and 1 which will let us count how many records were created by a particular host's request. Using the new RDD, we perform a `reduceByKey` function with a `lambda` function that adds the two values. We then filter the result based on the count of accesses by each host (the second element of each pair) being greater than ten. Next, we extract the host name by performing a `map` with a `lambda` function that returns the first element of each pair. Finally, we extract 20 elements from the resulting RDD - *note that the choice of which elements are returned is not guaranteed to be deterministic.*"
      ]
    },
    {
      "cell_type": "code",
      "metadata": {
        "id": "vRdHa1Gx_X4i",
        "colab": {
          "base_uri": "https://localhost:8080/"
        },
        "outputId": "fc2b2023-c509-4e78-e80e-5a4233a23c3b"
      },
      "source": [
        "# Any hosts that has accessed the server more than 10 times.\n",
        "hostCountPairTuple = access_logs.map(lambda log: (log.host, 1))\n",
        "\n",
        "hostSum = hostCountPairTuple.reduceByKey(lambda a, b : a + b)\n",
        "\n",
        "hostMoreThan10 = hostSum.filter(lambda s: s[1] > 10)\n",
        "\n",
        "hostsPick20 = (hostMoreThan10\n",
        "               .map(lambda s: s[0])\n",
        "               .take(20))\n",
        "\n",
        "print('Any 20 hosts that have accessed more then 10 times: %s' % hostsPick20)\n",
        "# An example: [u'204.120.34.185', u'204.243.249.9', u'slip1-32.acs.ohio-state.edu', u'lapdog-14.baylor.edu', u'199.77.67.3', u'gs1.cs.ttu.edu', u'haskell.limbex.com', u'alfred.uib.no', u'146.129.66.31', u'manaus.bologna.maraut.it', u'dialup98-110.swipnet.se', u'slip-ppp02.feldspar.com', u'ad03-053.compuserve.com', u'srawlin.opsys.nwa.com', u'199.202.200.52', u'ix-den7-23.ix.netcom.com', u'151.99.247.114', u'w20-575-104.mit.edu', u'205.25.227.20', u'ns.rmc.com']"
      ],
      "execution_count": null,
      "outputs": [
        {
          "output_type": "stream",
          "name": "stdout",
          "text": [
            "Any 20 hosts that have accessed more then 10 times: ['www-c3.proxy.aol.com', 'www-d3.proxy.aol.com', 'www-d4.proxy.aol.com', 'piweba1y.prodigy.com', 'pm9.j51.com', 'pipe1.nyc.pipeline.com', 'dialip129.gov.bc.ca', 'palpk-s13.intac.com', 'www-d1.proxy.aol.com', 'tia1.eskimo.com', 'remote.redzone.com', 'www-c1.proxy.aol.com', 'pme609.onramp.awinc.com', 'prakinf2.prakinf.tu-ilmenau.de', '168.78.14.166', '199.190.95.40', 'bonnou.lab.kdd.co.jp', 'gatekeeper.us.oracle.com', 'www-a1.proxy.aol.com', 'kingston-ts-16.nstn.ca']\n"
          ]
        }
      ]
    },
    {
      "cell_type": "markdown",
      "metadata": {
        "id": "xmBlaylz_X4i"
      },
      "source": [
        "#### **(2e) Example: Visualizing Endpoints**\n",
        "####Now, lets visualize the number of hits to endpoints (URIs) in the log. To perform this task, we first create a new RDD by using a `lambda` function to extract the `endpoint` field from the `access_logs` RDD using a pair tuple consisting of the endpoint and 1 which will let us count how many records were created by a particular host's request. Using the new RDD, we perform a `reduceByKey` function with a `lambda` function that adds the two values. We then cache the results.\n",
        "\n",
        "####Next we visualize the results using `matplotlib`. We previously imported the `matplotlib.pyplot` library, so we do not need to import it again. We perform two separate `map` functions with `lambda` functions. The first `map` function extracts a list of endpoint values, and the second `map` function extracts a list of the visits per endpoint values. Next, we create a figure with `figure()` constructor, set various features of the plot (axis limits, grid lines, and labels), and use the `plot()` method to create the line plot."
      ]
    },
    {
      "cell_type": "code",
      "metadata": {
        "id": "bMoXgHQy_X4i",
        "colab": {
          "base_uri": "https://localhost:8080/",
          "height": 403
        },
        "outputId": "4d4e7ee4-ee64-48de-e388-04abd4d94033"
      },
      "source": [
        "endpoints = (access_logs\n",
        "             .map(lambda log: (log.endpoint, 1))\n",
        "             .reduceByKey(lambda a, b : a + b)\n",
        "             .cache())\n",
        "ends = endpoints.map(lambda t: t[0]).collect()\n",
        "counts = endpoints.map(lambda t: t[1]).collect()\n",
        "\n",
        "fig = plt.figure(figsize=(8,4.2), facecolor='white', edgecolor='white')\n",
        "plt.axis([0, len(ends), 0, max(counts)])\n",
        "plt.grid(visible=True, which='major', axis='y')\n",
        "plt.xlabel('Endpoints')\n",
        "plt.ylabel('Number of Hits')\n",
        "plt.plot(counts)\n",
        "pass"
      ],
      "execution_count": null,
      "outputs": [
        {
          "output_type": "display_data",
          "data": {
            "text/plain": [
              "<Figure size 800x420 with 1 Axes>"
            ],
            "image/png": "[encoded data removed]"
          },
          "metadata": {}
        }
      ]
    },
    {
      "cell_type": "markdown",
      "metadata": {
        "id": "FSmptDLT_X4i"
      },
      "source": [
        "#### **(2f) Example: Top Endpoints**\n",
        "####For the final example, we'll look at the top endpoints (URIs) in the log. To determine them, we first create a new RDD by using a `lambda` function to extract the `endpoint` field from the `access_logs` RDD using a pair tuple consisting of the endpoint and 1 which will let us count how many records were created by a particular host's request. Using the new RDD, we perform a `reduceByKey` function with a `lambda` function that adds the two values. We then extract the top ten endpoints by performing a [`takeOrdered`](http://spark.apache.org/docs/latest/api/python/pyspark.html#pyspark.RDD.takeOrdered) with a value of 10 and a `lambda` function that multiplies the count (the second element of each pair) by -1 to create a sorted list with the top endpoints at the bottom."
      ]
    },
    {
      "cell_type": "code",
      "metadata": {
        "id": "ov-nE2XW_X4i",
        "colab": {
          "base_uri": "https://localhost:8080/"
        },
        "outputId": "f311f025-4ddd-4d40-e415-b0fb657069ef"
      },
      "source": [
        "# Top Endpoints\n",
        "endpointCounts = (access_logs\n",
        "                  .map(lambda log: (log.endpoint, 1))\n",
        "                  .reduceByKey(lambda a, b : a + b))\n",
        "\n",
        "topEndpoints = endpointCounts.takeOrdered(10, lambda s: -1 * s[1])\n",
        "\n",
        "print('Top Ten Endpoints: %s' % topEndpoints)\n",
        "assert topEndpoints == [(u'/images/NASA-logosmall.gif', 59737), (u'/images/KSC-logosmall.gif', 50452), (u'/images/MOSAIC-logosmall.gif', 43890), (u'/images/USA-logosmall.gif', 43664), (u'/images/WORLD-logosmall.gif', 43277), (u'/images/ksclogo-medium.gif', 41336), (u'/ksc.html', 28582), (u'/history/apollo/images/apollo-logo1.gif', 26778), (u'/images/launch-logo.gif', 24755), (u'/', 20292)], 'incorrect Top Ten Endpoints'"
      ],
      "execution_count": null,
      "outputs": [
        {
          "output_type": "stream",
          "name": "stdout",
          "text": [
            "Top Ten Endpoints: [('/images/NASA-logosmall.gif', 59737), ('/images/KSC-logosmall.gif', 50452), ('/images/MOSAIC-logosmall.gif', 43890), ('/images/USA-logosmall.gif', 43664), ('/images/WORLD-logosmall.gif', 43277), ('/images/ksclogo-medium.gif', 41336), ('/ksc.html', 28582), ('/history/apollo/images/apollo-logo1.gif', 26778), ('/images/launch-logo.gif', 24755), ('/', 20292)]\n"
          ]
        }
      ]
    },
    {
      "cell_type": "markdown",
      "metadata": {
        "id": "whMYJ9GS_X4i"
      },
      "source": [
        "### **Part 3: Analyzing Web Server Log File**\n",
        "\n",
        "####Now it is your turn to perform analyses on web server log files."
      ]
    },
    {
      "cell_type": "markdown",
      "metadata": {
        "id": "qFI210-h_X4j"
      },
      "source": [
        "#### **(3a) Exercise: Top Ten Error Endpoints**\n",
        "####What are the top ten endpoints which did not have return code 200? Create a sorted list containing top ten endpoints and the number of times that they were accessed with non-200 return code.\n",
        "\n",
        "####Think about the steps that you need to perform to determine which endpoints did not have a 200 return code, how you will uniquely count those endpoints, and sort the list.\n",
        "\n",
        "####You might want to refer back to the previous Lab (Lab 1 Word Count) for insights."
      ]
    },
    {
      "cell_type": "code",
      "metadata": {
        "id": "PO6pT3CA_X4j",
        "colab": {
          "base_uri": "https://localhost:8080/"
        },
        "outputId": "1f8579fc-f9fd-41da-b03a-76639803c14d"
      },
      "source": [
        "\n",
        "\n",
        "not200 = access_logs.filter(lambda log: log.response_code != 200)\n",
        "\n",
        "endpointCountPairTuple = not200.map(lambda log: (log.endpoint, 1))\n",
        "\n",
        "endpointSum = endpointCountPairTuple.reduceByKey(lambda a, b: a + b)\n",
        "\n",
        "topTenErrURLs = endpointSum.takeOrdered(10, lambda endpointSumTuple: endpointSumTuple[1] * (-1))\n",
        "\n",
        "print('Top Ten failed URLs: %s' % topTenErrURLs)"
      ],
      "execution_count": null,
      "outputs": [
        {
          "output_type": "stream",
          "name": "stdout",
          "text": [
            "Top Ten failed URLs: [('/images/NASA-logosmall.gif', 8761), ('/images/KSC-logosmall.gif', 7236), ('/images/MOSAIC-logosmall.gif', 5197), ('/images/USA-logosmall.gif', 5157), ('/images/WORLD-logosmall.gif', 5020), ('/images/ksclogo-medium.gif', 4728), ('/history/apollo/images/apollo-logo1.gif', 2907), ('/images/launch-logo.gif', 2811), ('/', 2199), ('/images/ksclogosmall.gif', 1622)]\n"
          ]
        }
      ]
    },
    {
      "cell_type": "code",
      "metadata": {
        "id": "gMIGM5rd_X4j",
        "colab": {
          "base_uri": "https://localhost:8080/"
        },
        "outputId": "2fff8e00-4873-44b1-9d29-3af653f40f65"
      },
      "source": [
        "# TEST Top ten error endpoints (3a)\n",
        "Test.assertEquals(endpointSum.count(), 7689, 'incorrect count for endpointSum')\n",
        "Test.assertEquals(topTenErrURLs, [(u'/images/NASA-logosmall.gif', 8761), (u'/images/KSC-logosmall.gif', 7236), (u'/images/MOSAIC-logosmall.gif', 5197), (u'/images/USA-logosmall.gif', 5157), (u'/images/WORLD-logosmall.gif', 5020), (u'/images/ksclogo-medium.gif', 4728), (u'/history/apollo/images/apollo-logo1.gif', 2907), (u'/images/launch-logo.gif', 2811), (u'/', 2199), (u'/images/ksclogosmall.gif', 1622)], 'incorrect Top Ten failed URLs (topTenErrURLs)')"
      ],
      "execution_count": null,
      "outputs": [
        {
          "output_type": "stream",
          "name": "stdout",
          "text": [
            "1 test passed.\n",
            "1 test passed.\n"
          ]
        }
      ]
    },
    {
      "cell_type": "markdown",
      "metadata": {
        "id": "nrOb50XB_X4j"
      },
      "source": [
        "#### **(3b) Exercise: Number of Unique Hosts**\n",
        "####How many unique hosts are there in the entire log?\n",
        "\n",
        "####Think about the steps that you need to perform to count the number of different hosts in the log."
      ]
    },
    {
      "cell_type": "code",
      "metadata": {
        "id": "W7C1ykK1_X4j",
        "colab": {
          "base_uri": "https://localhost:8080/"
        },
        "outputId": "92957a79-20aa-431d-92a3-8776c3c3ec73"
      },
      "source": [
        "# TODO: Replace <FILL IN> with appropriate code\n",
        "# HINT: Do you recall the tips from (3a)? Each of these <FILL IN> could be an transformation or action.\n",
        "\n",
        "hosts = access_logs.map(lambda log: log.host)\n",
        "\n",
        "uniqueHosts = hosts.distinct()\n",
        "\n",
        "uniqueHostCount = uniqueHosts.count()\n",
        "print('Unique hosts: %d' % uniqueHostCount)"
      ],
      "execution_count": null,
      "outputs": [
        {
          "output_type": "stream",
          "name": "stdout",
          "text": [
            "Unique hosts: 54507\n"
          ]
        }
      ]
    },
    {
      "cell_type": "code",
      "metadata": {
        "id": "u6aQegOV_X4j",
        "colab": {
          "base_uri": "https://localhost:8080/"
        },
        "outputId": "960b3f32-4714-43ec-b1df-d9218afca598"
      },
      "source": [
        "# TEST Number of unique hosts (3b)\n",
        "Test.assertEquals(uniqueHostCount, 54507, 'incorrect uniqueHostCount')"
      ],
      "execution_count": null,
      "outputs": [
        {
          "output_type": "stream",
          "name": "stdout",
          "text": [
            "1 test passed.\n"
          ]
        }
      ]
    },
    {
      "cell_type": "markdown",
      "metadata": {
        "id": "q5aA1QsV_X4j"
      },
      "source": [
        "#### **(3c) Exercise: Number of Unique Daily Hosts**\n",
        "####For an advanced exercise, let's determine the number of unique hosts in the entire log on a day-by-day basis. This computation will give us counts of the number of unique daily hosts. We'd like a list sorted by increasing day of the month which includes the day of the month and the associated number of unique hosts for that day. Make sure you cache the resulting RDD `dailyHosts` so that we can reuse it in the next exercise.\n",
        "\n",
        "####Think about the steps that you need to perform to count the number of different hosts that make requests *each* day.\n",
        "####*Since the log only covers a single month, you can ignore the month.*"
      ]
    },
    {
      "cell_type": "code",
      "metadata": {
        "id": "smC4MSH__X4k",
        "colab": {
          "base_uri": "https://localhost:8080/"
        },
        "outputId": "296e6980-4e78-4269-8b08-fa2ac0cc1277"
      },
      "source": [
        "# TODO: Replace <FILL IN> with appropriate code\n",
        "\n",
        "dayToHostPairTuple = access_logs.map(lambda log: (log.date_time.day, log.host)).distinct()\n",
        "\n",
        "dayGroupedHosts = dayToHostPairTuple.map(lambda day_host: (day_host[0], 1))\n",
        "\n",
        "dayHostCount = dayGroupedHosts.reduceByKey(lambda a, b: a + b)\n",
        "\n",
        "dailyHosts = dayHostCount.sortByKey().cache()\n",
        "\n",
        "dailyHostsList = dailyHosts.take(30)\n",
        "print('Unique hosts per day: %s' % dailyHostsList)"
      ],
      "execution_count": null,
      "outputs": [
        {
          "output_type": "stream",
          "name": "stdout",
          "text": [
            "Unique hosts per day: [(1, 2582), (3, 3222), (4, 4190), (5, 2502), (6, 2537), (7, 4106), (8, 4406), (9, 4317), (10, 4523), (11, 4346), (12, 2864), (13, 2650), (14, 4454), (15, 4214), (16, 4340), (17, 4385), (18, 4168), (19, 2550), (20, 2560), (21, 4134), (22, 4456)]\n"
          ]
        }
      ]
    },
    {
      "cell_type": "code",
      "metadata": {
        "id": "NnconEX__X4k",
        "colab": {
          "base_uri": "https://localhost:8080/"
        },
        "outputId": "35e386a5-8f11-4884-c975-21ffe9b4ce58"
      },
      "source": [
        "# TEST Number of unique daily hosts (3c)\n",
        "Test.assertEquals(dailyHosts.count(), 21, 'incorrect dailyHosts.count()')\n",
        "Test.assertEquals(dailyHostsList, [(1, 2582), (3, 3222), (4, 4190), (5, 2502), (6, 2537), (7, 4106), (8, 4406), (9, 4317), (10, 4523), (11, 4346), (12, 2864), (13, 2650), (14, 4454), (15, 4214), (16, 4340), (17, 4385), (18, 4168), (19, 2550), (20, 2560), (21, 4134), (22, 4456)], 'incorrect dailyHostsList')\n",
        "Test.assertTrue(dailyHosts.is_cached, 'incorrect dailyHosts.is_cached')"
      ],
      "execution_count": null,
      "outputs": [
        {
          "output_type": "stream",
          "name": "stdout",
          "text": [
            "1 test passed.\n",
            "1 test passed.\n",
            "1 test passed.\n"
          ]
        }
      ]
    },
    {
      "cell_type": "markdown",
      "metadata": {
        "id": "B6R2jmui_X4k"
      },
      "source": [
        "#### **(3d) Exercise: Visualizing the Number of Unique Daily Hosts**\n",
        "####Using the results from the previous exercise, use `matplotlib` to plot a \"Line\" graph of the unique hosts requests by day.\n",
        "#### `daysWithHosts` should be a list of days and `hosts` should be a list of number of unique hosts for each corresponding day.\n",
        "#### * How could you convert a RDD into a list? See the [`collect()` method](http://spark.apache.org/docs/latest/api/python/pyspark.html?highlight=collect#pyspark.RDD.collect)*"
      ]
    },
    {
      "cell_type": "code",
      "metadata": {
        "id": "vVi8xu1f_X4k"
      },
      "source": [
        "# TODO: Replace <FILL IN> with appropriate code\n",
        "\n",
        "daysWithHosts = dailyHosts.map(lambda day_host: day_host[0]).collect()\n",
        "hosts = dailyHosts.map(lambda day_host: day_host[1]).collect()"
      ],
      "execution_count": null,
      "outputs": []
    },
    {
      "cell_type": "code",
      "metadata": {
        "id": "y7Op1uv1_X4k",
        "colab": {
          "base_uri": "https://localhost:8080/"
        },
        "outputId": "c68e7cfb-2cd1-4e85-fe97-a4549b3c93b7"
      },
      "source": [
        "# TEST Visualizing unique daily hosts (3d)\n",
        "test_days = list(range(1, 23))\n",
        "test_days.remove(2)\n",
        "Test.assertEquals(daysWithHosts, test_days, 'incorrect days')\n",
        "Test.assertEquals(hosts, [2582, 3222, 4190, 2502, 2537, 4106, 4406, 4317, 4523, 4346, 2864, 2650, 4454, 4214, 4340, 4385, 4168, 2550, 2560, 4134, 4456], 'incorrect hosts')"
      ],
      "execution_count": null,
      "outputs": [
        {
          "output_type": "stream",
          "name": "stdout",
          "text": [
            "1 test passed.\n",
            "1 test passed.\n"
          ]
        }
      ]
    },
    {
      "cell_type": "code",
      "metadata": {
        "id": "zrwuU76Z_X4k",
        "colab": {
          "base_uri": "https://localhost:8080/",
          "height": 430
        },
        "outputId": "e2a504ce-6ec5-4446-80b2-574ac3ec5f15"
      },
      "source": [
        "fig = plt.figure(figsize=(8,4.5), facecolor='white', edgecolor='white')\n",
        "plt.axis([min(daysWithHosts), max(daysWithHosts), 0, max(hosts)+500])\n",
        "plt.grid(visible=True, which='major', axis='y')\n",
        "plt.xlabel('Day')\n",
        "plt.ylabel('Hosts')\n",
        "plt.plot(daysWithHosts, hosts)\n",
        "pass"
      ],
      "execution_count": null,
      "outputs": [
        {
          "output_type": "display_data",
          "data": {
            "text/plain": [
              "<Figure size 800x450 with 1 Axes>"
            ],
            "image/png": "[encoded data removed]"
          },
          "metadata": {}
        }
      ]
    },
    {
      "cell_type": "markdown",
      "metadata": {
        "id": "JAeaCW61_X4k"
      },
      "source": [
        "#### **(3e) Exercise: Average Number of Daily Requests per Hosts**\n",
        "####Next, let's determine the average number of requests on a day-by-day basis. We'd like a list by increasing day of the month and the associated average number of requests per host for that day. Make sure you cache the resulting RDD `avgDailyReqPerHost` so that we can reuse it in the next exercise.\n",
        "####To compute the average number of requests per host, get the total number of request across all hosts and divide that by the number of unique hosts.\n",
        "####*Since the log only covers a single month, you can skip checking for the month.*\n",
        "####*Also to keep it simple, when calculating the approximate average use the integer value - you do not need to upcast to float*"
      ]
    },
    {
      "cell_type": "code",
      "metadata": {
        "id": "wN0BnduM_X4l",
        "colab": {
          "base_uri": "https://localhost:8080/"
        },
        "outputId": "dcebfc62-8d9d-4dfe-c840-bf93082bd7ef"
      },
      "source": [
        "# TODO: Replace <FILL IN> with appropriate code\n",
        "\n",
        "dayAndHostTuple = access_logs.map(lambda log: (log.date_time.day, 1))\n",
        "\n",
        "groupedByDay = dayAndHostTuple.reduceByKey(lambda a, b: a + b)\n",
        "\n",
        "sortedByDay = groupedByDay.sortByKey()\n",
        "\n",
        "avgDailyReqPerHost = (sortedByDay\n",
        "                      .join(dailyHosts)\n",
        "                      .map(lambda day_req_host: (day_req_host[0], int(day_req_host[1][0] / day_req_host[1][1])))\n",
        "                      .sortByKey()\n",
        "                      .cache())\n",
        "\n",
        "avgDailyReqPerHostList = avgDailyReqPerHost.take(30)\n",
        "print('Average number of daily requests per Hosts is %s' % avgDailyReqPerHostList)"
      ],
      "execution_count": null,
      "outputs": [
        {
          "output_type": "stream",
          "name": "stdout",
          "text": [
            "Average number of daily requests per Hosts is [(1, 13), (3, 12), (4, 14), (5, 12), (6, 12), (7, 13), (8, 13), (9, 14), (10, 13), (11, 14), (12, 13), (13, 13), (14, 13), (15, 13), (16, 13), (17, 13), (18, 13), (19, 12), (20, 12), (21, 13), (22, 12)]\n"
          ]
        }
      ]
    },
    {
      "cell_type": "code",
      "metadata": {
        "id": "QmqUaLud_X4l",
        "colab": {
          "base_uri": "https://localhost:8080/"
        },
        "outputId": "d8e601d4-167e-4dbb-d4e0-74d9f9ce1746"
      },
      "source": [
        "# TEST Average number of daily requests per hosts (3e)\n",
        "Test.assertEquals(avgDailyReqPerHostList, [(1, 13), (3, 12), (4, 14), (5, 12), (6, 12), (7, 13), (8, 13), (9, 14), (10, 13), (11, 14), (12, 13), (13, 13), (14, 13), (15, 13), (16, 13), (17, 13), (18, 13), (19, 12), (20, 12), (21, 13), (22, 12)], 'incorrect avgDailyReqPerHostList')\n",
        "Test.assertTrue(avgDailyReqPerHost.is_cached, 'incorrect avgDailyReqPerHost.is_cache')"
      ],
      "execution_count": null,
      "outputs": [
        {
          "output_type": "stream",
          "name": "stdout",
          "text": [
            "1 test passed.\n",
            "1 test passed.\n"
          ]
        }
      ]
    },
    {
      "cell_type": "markdown",
      "metadata": {
        "id": "SYdQ33tv_X4l"
      },
      "source": [
        "#### **(3f) Exercise: Visualizing the Average Daily Requests per Unique Host**\n",
        "####Using the result `avgDailyReqPerHost` from the previous exercise, use `matplotlib` to plot a \"Line\" graph of the average daily requests per unique host by day.\n",
        "#### `daysWithAvg` should be a list of days and `avgs` should be a list of average daily requests per unique hosts for each corresponding day."
      ]
    },
    {
      "cell_type": "code",
      "metadata": {
        "id": "RXOqid94_X4l"
      },
      "source": [
        "# TODO: Replace <FILL IN> with appropriate code\n",
        "\n",
        "daysWithAvg = avgDailyReqPerHost.map(lambda day_req: day_req[0]).collect()\n",
        "avgs = avgDailyReqPerHost.map(lambda day_req: day_req[1]).collect()"
      ],
      "execution_count": null,
      "outputs": []
    },
    {
      "cell_type": "code",
      "metadata": {
        "id": "uXRY42eQ_X4l",
        "colab": {
          "base_uri": "https://localhost:8080/"
        },
        "outputId": "ad460b8a-1f94-4484-95b6-39174110842d"
      },
      "source": [
        "# TEST Average Daily Requests per Unique Host (3f)\n",
        "Test.assertEquals(daysWithAvg, [1, 3, 4, 5, 6, 7, 8, 9, 10, 11, 12, 13, 14, 15, 16, 17, 18, 19, 20, 21, 22], 'incorrect days')\n",
        "Test.assertEquals(avgs, [13, 12, 14, 12, 12, 13, 13, 14, 13, 14, 13, 13, 13, 13, 13, 13, 13, 12, 12, 13, 12], 'incorrect avgs')"
      ],
      "execution_count": null,
      "outputs": [
        {
          "output_type": "stream",
          "name": "stdout",
          "text": [
            "1 test passed.\n",
            "1 test passed.\n"
          ]
        }
      ]
    },
    {
      "cell_type": "code",
      "metadata": {
        "id": "aUBnw9OG_X4l",
        "colab": {
          "base_uri": "https://localhost:8080/",
          "height": 409
        },
        "outputId": "4360cb99-bc09-49dc-ab01-84f1d65c4b89"
      },
      "source": [
        "fig = plt.figure(figsize=(8,4.2), facecolor='white', edgecolor='white')\n",
        "plt.axis([0, max(daysWithAvg), 0, max(avgs)+2])\n",
        "plt.grid(visible=True, which='major', axis='y')\n",
        "plt.xlabel('Day')\n",
        "plt.ylabel('Average')\n",
        "plt.plot(daysWithAvg, avgs)\n",
        "pass"
      ],
      "execution_count": null,
      "outputs": [
        {
          "output_type": "display_data",
          "data": {
            "text/plain": [
              "<Figure size 800x420 with 1 Axes>"
            ],
            "image/png": "[encoded data removed]"
          },
          "metadata": {}
        }
      ]
    },
    {
      "cell_type": "markdown",
      "metadata": {
        "id": "DDfqWHgS_X4l"
      },
      "source": [
        "### **Part 4: Exploring 404 Response Codes**\n",
        "\n",
        "####Let's drill down and explore the error 404 response code records. 404 errors are returned when an endpoint is not found by the server (i.e., a missing page or object)."
      ]
    },
    {
      "cell_type": "markdown",
      "metadata": {
        "id": "mMxOzJKY_X4l"
      },
      "source": [
        "#### **(4a) Exercise: Counting 404 Response Codes**\n",
        "#### Create a RDD containing only log records with a 404 response code. Make sure you `cache()` the RDD `badRecords` as we will use it in the rest of this exercise.\n",
        "\n",
        "#### How many 404 records are in the log?"
      ]
    },
    {
      "cell_type": "code",
      "metadata": {
        "id": "kKEPlj8N_X4m",
        "colab": {
          "base_uri": "https://localhost:8080/"
        },
        "outputId": "877891e4-e49a-48aa-e640-404bb6d9a122"
      },
      "source": [
        "# TODO: Replace <FILL IN> with appropriate code\n",
        "\n",
        "badRecords = (access_logs\n",
        "              .filter(lambda log: log.response_code == 404)\n",
        "              .cache())\n",
        "print('Found %d 404 URLs' % badRecords.count())"
      ],
      "execution_count": null,
      "outputs": [
        {
          "output_type": "stream",
          "name": "stdout",
          "text": [
            "Found 6185 404 URLs\n"
          ]
        }
      ]
    },
    {
      "cell_type": "code",
      "metadata": {
        "id": "Tt-YYkCN_X4m",
        "colab": {
          "base_uri": "https://localhost:8080/"
        },
        "outputId": "36125624-f62f-47a6-f1fa-0844e4c766cd"
      },
      "source": [
        "# TEST Counting 404 (4a)\n",
        "Test.assertEquals(badRecords.count(), 6185, 'incorrect badRecords.count()')\n",
        "Test.assertTrue(badRecords.is_cached, 'incorrect badRecords.is_cached')"
      ],
      "execution_count": null,
      "outputs": [
        {
          "output_type": "stream",
          "name": "stdout",
          "text": [
            "1 test passed.\n",
            "1 test passed.\n"
          ]
        }
      ]
    },
    {
      "cell_type": "markdown",
      "metadata": {
        "id": "qmuSo-Ml_X4m"
      },
      "source": [
        "#### **(4b) Exercise: Listing 404 Response Code Records**\n",
        "####Using the RDD containing only log records with a 404 response code that you cached in part (4a), print out a list up to 40 **distinct** endpoints that generate 404 errors -  *no endpoint should appear more than once in your list.*"
      ]
    },
    {
      "cell_type": "code",
      "metadata": {
        "id": "AYG8yCOt_X4m",
        "colab": {
          "base_uri": "https://localhost:8080/"
        },
        "outputId": "f5202124-34ed-425a-8e44-ffc26be7770e"
      },
      "source": [
        "# TODO: Replace <FILL IN> with appropriate code\n",
        "\n",
        "badEndpoints = badRecords.map(lambda log: log.endpoint)\n",
        "\n",
        "badUniqueEndpoints = badEndpoints.distinct()\n",
        "\n",
        "badUniqueEndpointsPick40 = badUniqueEndpoints.take(40)\n",
        "print('404 URLS: %s' % badUniqueEndpointsPick40)"
      ],
      "execution_count": null,
      "outputs": [
        {
          "output_type": "stream",
          "name": "stdout",
          "text": [
            "404 URLS: ['/history/history.htm', '/history/apollo/a-001/images/', '/history/apollo/a-004/a-004-patch-small.gif', '/nasa/nasa_hottopics.html', '/people/nasa-cm/jmd.html', '/history/apollo/sa-9/images/', '/shuttle/technology/sts-newsref/spacelab', '/ksc.html0.', '/shuttle/missions-sts-49.html', '/ksclogo-medium.gif', '/ksc.nasa.gov/images/ksclogo-medium.gif', '/shuttle/missions/sts-69/images/KSC-95EC-1014.gif', '/shuttle/missions/sts-69/images/KSC-95EC-0852.gif', '/shuttle/missions/STS-69/images/index69.gif', '/robots.txt', '/history/apollo/sa-5/sa-5-patch-small.gif', '/HISTORY/APOLLO/APOLLO-13/APOLLO-13.HTML', '/pub/winvn/', '/shuttle/countdown/ab.html', '/shuttle/missions/sts-71/video/landing.gif', '/facilities/tour.html-OLD', '/shuttle/technology/images/sts-cron-72-small.gif', '/warning.gif', '/shuttle/missions/STS-69/mission-STS-69.html', '/software/winvn/winvn.html.', '/shuttle/missions/sts-80/mission-sts-80.html', '/shuttle/mission/mission.html', '/news/sci.space.shuttle/archive/sci-space-shuttle-28-jul-1994-98.txt', '/penthousemag.com', '/elv/SCOUT/elvhead2.gif', '/shuttle/news/sci.space.news/50', '/ksc.shtml', '/pub/wiinvn/win3/', '/http:techweb.cmp/win/current', '/images/crawlerway.gif', '/shuttle/missions/sts73.html', '/magazine/p08aug/08pet12.gif', '/resource/tinykey.gif', '/history/apollo/sa-1/sounds/', '/history/gemini/gemini-ix-a/gemini-ix-a-patch-small-gif']\n"
          ]
        }
      ]
    },
    {
      "cell_type": "code",
      "metadata": {
        "id": "-vfyuuVw_X4m",
        "colab": {
          "base_uri": "https://localhost:8080/"
        },
        "outputId": "79eff16a-5f1f-4f36-bd0a-90f1f004a756"
      },
      "source": [
        "# TEST Listing 404 records (4b)\n",
        "\n",
        "badUniqueEndpointsSet40 = set(badUniqueEndpointsPick40)\n",
        "Test.assertEquals(len(badUniqueEndpointsSet40), 40, 'badUniqueEndpointsPick40 not distinct')"
      ],
      "execution_count": null,
      "outputs": [
        {
          "output_type": "stream",
          "name": "stdout",
          "text": [
            "1 test passed.\n"
          ]
        }
      ]
    },
    {
      "cell_type": "markdown",
      "metadata": {
        "id": "aXvW-8rD_X4m"
      },
      "source": [
        "#### **(4c) Exercise: Listing the Top Twenty 404 Response Code Endpoints**\n",
        "####Using the RDD containing only log records with a 404 response code that you cached in part (4a), print out a list of the top twenty endpoints that generate the most 404 errors.\n",
        "####*Remember, top endpoints should be in sorted order*"
      ]
    },
    {
      "cell_type": "code",
      "metadata": {
        "id": "KK_W0z5y_X4m",
        "colab": {
          "base_uri": "https://localhost:8080/"
        },
        "outputId": "ec3bd0d7-b0db-45c4-f909-02b13ffa288d"
      },
      "source": [
        "# TODO: Replace <FILL IN> with appropriate code\n",
        "\n",
        "badEndpointsCountPairTuple = badRecords.map(lambda log: (log.endpoint, 1))\n",
        "\n",
        "badEndpointsSum = badEndpointsCountPairTuple.reduceByKey(lambda a, b: a + b)\n",
        "\n",
        "badEndpointsTop20 = badEndpointsSum.takeOrdered(20, lambda endp_req: -1 * endp_req[1])\n",
        "print('Top Twenty 404 URLs: %s' % badEndpointsTop20)"
      ],
      "execution_count": null,
      "outputs": [
        {
          "output_type": "stream",
          "name": "stdout",
          "text": [
            "Top Twenty 404 URLs: [('/pub/winvn/readme.txt', 633), ('/pub/winvn/release.txt', 494), ('/shuttle/missions/STS-69/mission-STS-69.html', 431), ('/images/nasa-logo.gif', 319), ('/elv/DELTA/uncons.htm', 178), ('/shuttle/missions/sts-68/ksc-upclose.gif', 156), ('/history/apollo/sa-1/sa-1-patch-small.gif', 146), ('/images/crawlerway-logo.gif', 120), ('/://spacelink.msfc.nasa.gov', 117), ('/history/apollo/pad-abort-test-1/pad-abort-test-1-patch-small.gif', 100), ('/history/apollo/a-001/a-001-patch-small.gif', 97), ('/images/Nasa-logo.gif', 85), ('/shuttle/resources/orbiters/atlantis.gif', 64), ('/history/apollo/images/little-joe.jpg', 62), ('/images/lf-logo.gif', 59), ('/shuttle/resources/orbiters/discovery.gif', 56), ('/shuttle/resources/orbiters/challenger.gif', 54), ('/robots.txt', 53), ('/elv/new01.gif>', 43), ('/history/apollo/pad-abort-test-2/pad-abort-test-2-patch-small.gif', 38)]\n"
          ]
        }
      ]
    },
    {
      "cell_type": "code",
      "metadata": {
        "id": "uds2J70X_X4m",
        "colab": {
          "base_uri": "https://localhost:8080/"
        },
        "outputId": "73d86098-ae0f-4b12-d0fb-c481eff87445"
      },
      "source": [
        "# TEST Top twenty 404 URLs (4c)\n",
        "Test.assertEquals(badEndpointsTop20, [(u'/pub/winvn/readme.txt', 633), (u'/pub/winvn/release.txt', 494), (u'/shuttle/missions/STS-69/mission-STS-69.html', 431), (u'/images/nasa-logo.gif', 319), (u'/elv/DELTA/uncons.htm', 178), (u'/shuttle/missions/sts-68/ksc-upclose.gif', 156), (u'/history/apollo/sa-1/sa-1-patch-small.gif', 146), (u'/images/crawlerway-logo.gif', 120), (u'/://spacelink.msfc.nasa.gov', 117), (u'/history/apollo/pad-abort-test-1/pad-abort-test-1-patch-small.gif', 100), (u'/history/apollo/a-001/a-001-patch-small.gif', 97), (u'/images/Nasa-logo.gif', 85), (u'/shuttle/resources/orbiters/atlantis.gif', 64), (u'/history/apollo/images/little-joe.jpg', 62), (u'/images/lf-logo.gif', 59), (u'/shuttle/resources/orbiters/discovery.gif', 56), (u'/shuttle/resources/orbiters/challenger.gif', 54), (u'/robots.txt', 53), (u'/elv/new01.gif>', 43), (u'/history/apollo/pad-abort-test-2/pad-abort-test-2-patch-small.gif', 38)], 'incorrect badEndpointsTop20')"
      ],
      "execution_count": null,
      "outputs": [
        {
          "output_type": "stream",
          "name": "stdout",
          "text": [
            "1 test passed.\n"
          ]
        }
      ]
    },
    {
      "cell_type": "markdown",
      "metadata": {
        "id": "j-ut2iV4_X4m"
      },
      "source": [
        "#### **(4d) Exercise: Listing the Top Twenty-five 404 Response Code Hosts**\n",
        "####Instead of looking at the endpoints that generated 404 errors, let's look at the hosts that encountered 404 errors. Using the RDD containing only log records with a 404 response code that you cached in part (4a), print out a list of the top twenty-five hosts that generate the most 404 errors."
      ]
    },
    {
      "cell_type": "code",
      "metadata": {
        "id": "Gm612Zr6_X4m",
        "colab": {
          "base_uri": "https://localhost:8080/"
        },
        "outputId": "e9227504-4f3b-4248-a16a-52ac43729065"
      },
      "source": [
        "# TODO: Replace <FILL IN> with appropriate code\n",
        "\n",
        "errHostsCountPairTuple = badRecords.map(lambda log: (log.host, 1))\n",
        "\n",
        "errHostsSum = errHostsCountPairTuple.reduceByKey(lambda a, b: a + b)\n",
        "\n",
        "errHostsTop25 = errHostsSum.takeOrdered(25, lambda host_req: -1 * host_req[1])\n",
        "print('Top 25 hosts that generated errors: %s' % errHostsTop25)"
      ],
      "execution_count": null,
      "outputs": [
        {
          "output_type": "stream",
          "name": "stdout",
          "text": [
            "Top 25 hosts that generated errors: [('maz3.maz.net', 39), ('piweba3y.prodigy.com', 39), ('gate.barr.com', 38), ('ts8-1.westwood.ts.ucla.edu', 37), ('nexus.mlckew.edu.au', 37), ('m38-370-9.mit.edu', 37), ('204.62.245.32', 33), ('163.206.104.34', 27), ('spica.sci.isas.ac.jp', 27), ('www-d4.proxy.aol.com', 26), ('203.13.168.24', 25), ('www-c4.proxy.aol.com', 25), ('203.13.168.17', 25), ('internet-gw.watson.ibm.com', 24), ('piweba5y.prodigy.com', 23), ('crl5.crl.com', 23), ('scooter.pa-x.dec.com', 23), ('onramp2-9.onr.com', 22), ('slip145-189.ut.nl.ibm.net', 22), ('198.40.25.102.sap2.artic.edu', 21), ('msp1-16.nas.mr.net', 20), ('gn2.getnet.com', 20), ('dial055.mbnet.mb.ca', 19), ('isou24.vilspa.esa.es', 19), ('tigger.nashscene.com', 19)]\n"
          ]
        }
      ]
    },
    {
      "cell_type": "code",
      "metadata": {
        "id": "f6bwmtRu_X4n",
        "colab": {
          "base_uri": "https://localhost:8080/"
        },
        "outputId": "6cd76d61-8fea-415a-e069-10230253e3bd"
      },
      "source": [
        "# TEST Top twenty-five 404 response code hosts (4d)\n",
        "\n",
        "Test.assertEquals(len(errHostsTop25), 25, 'length of errHostsTop25 is not 25')\n",
        "Test.assertEquals(len(set(errHostsTop25) - set([(u'maz3.maz.net', 39), (u'piweba3y.prodigy.com', 39), (u'gate.barr.com', 38), (u'm38-370-9.mit.edu', 37), (u'ts8-1.westwood.ts.ucla.edu', 37), (u'nexus.mlckew.edu.au', 37), (u'204.62.245.32', 33), (u'163.206.104.34', 27), (u'spica.sci.isas.ac.jp', 27), (u'www-d4.proxy.aol.com', 26), (u'www-c4.proxy.aol.com', 25), (u'203.13.168.24', 25), (u'203.13.168.17', 25), (u'internet-gw.watson.ibm.com', 24), (u'scooter.pa-x.dec.com', 23), (u'crl5.crl.com', 23), (u'piweba5y.prodigy.com', 23), (u'onramp2-9.onr.com', 22), (u'slip145-189.ut.nl.ibm.net', 22), (u'198.40.25.102.sap2.artic.edu', 21), (u'gn2.getnet.com', 20), (u'msp1-16.nas.mr.net', 20), (u'isou24.vilspa.esa.es', 19), (u'dial055.mbnet.mb.ca', 19), (u'tigger.nashscene.com', 19)])), 0, 'incorrect errHostsTop25')"
      ],
      "execution_count": null,
      "outputs": [
        {
          "output_type": "stream",
          "name": "stdout",
          "text": [
            "1 test passed.\n",
            "1 test passed.\n"
          ]
        }
      ]
    },
    {
      "cell_type": "markdown",
      "metadata": {
        "id": "_Z9ccIuJ_X4n"
      },
      "source": [
        "#### **(4e) Exercise: Listing 404 Response Codes per Day**\n",
        "####Let's explore the 404 records temporally. Break down the 404 requests by day (`cache()` the RDD `errDateSorted`) and get the daily counts sorted by day as a list.\n",
        "####*Since the log only covers a single month, you can ignore the month in your checks.*"
      ]
    },
    {
      "cell_type": "code",
      "metadata": {
        "id": "kpxP-jf-_X4n",
        "colab": {
          "base_uri": "https://localhost:8080/"
        },
        "outputId": "018b4422-83d5-4dda-ff92-7785b1f42172"
      },
      "source": [
        "# TODO: Replace <FILL IN> with appropriate code\n",
        "\n",
        "errDateCountPairTuple = badRecords.map(lambda log: (log.date_time.day, 1))\n",
        "\n",
        "errDateSum = errDateCountPairTuple.reduceByKey(lambda a, b: a + b)\n",
        "\n",
        "errDateSorted = (errDateSum\n",
        "                 .sortByKey()\n",
        "                 .cache())\n",
        "\n",
        "errByDate = errDateSorted.collect()\n",
        "print('404 Errors by day: %s' % errByDate)"
      ],
      "execution_count": null,
      "outputs": [
        {
          "output_type": "stream",
          "name": "stdout",
          "text": [
            "404 Errors by day: [(1, 243), (3, 303), (4, 346), (5, 234), (6, 372), (7, 532), (8, 381), (9, 279), (10, 314), (11, 263), (12, 195), (13, 216), (14, 287), (15, 326), (16, 258), (17, 269), (18, 255), (19, 207), (20, 312), (21, 305), (22, 288)]\n"
          ]
        }
      ]
    },
    {
      "cell_type": "code",
      "metadata": {
        "id": "P8NkpgnH_X4n",
        "colab": {
          "base_uri": "https://localhost:8080/"
        },
        "outputId": "252c4644-e4b4-4c65-a2b4-8dc26d60a388"
      },
      "source": [
        "# TEST 404 response codes per day (4e)\n",
        "Test.assertEquals(errByDate, [(1, 243), (3, 303), (4, 346), (5, 234), (6, 372), (7, 532), (8, 381), (9, 279), (10, 314), (11, 263), (12, 195), (13, 216), (14, 287), (15, 326), (16, 258), (17, 269), (18, 255), (19, 207), (20, 312), (21, 305), (22, 288)], 'incorrect errByDate')\n",
        "Test.assertTrue(errDateSorted.is_cached, 'incorrect errDateSorted.is_cached')"
      ],
      "execution_count": null,
      "outputs": [
        {
          "output_type": "stream",
          "name": "stdout",
          "text": [
            "1 test passed.\n",
            "1 test passed.\n"
          ]
        }
      ]
    },
    {
      "cell_type": "markdown",
      "metadata": {
        "id": "GVNqvmwI_X4n"
      },
      "source": [
        "#### **(4f) Exercise: Visualizing the 404 Response Codes by Day**\n",
        "####Using the results from the previous exercise, use `matplotlib` to plot a \"Line\" or \"Bar\" graph of the 404 response codes by day."
      ]
    },
    {
      "cell_type": "code",
      "metadata": {
        "id": "JOcHxNgG_X4n"
      },
      "source": [
        "# TODO: Replace <FILL IN> with appropriate code\n",
        "\n",
        "daysWithErrors404 = errDateSorted.map(lambda ab: ab[0]).collect()\n",
        "errors404ByDay = errDateSorted.map(lambda ab: ab[1]).collect()"
      ],
      "execution_count": null,
      "outputs": []
    },
    {
      "cell_type": "code",
      "metadata": {
        "id": "3IvGSI66_X4n",
        "colab": {
          "base_uri": "https://localhost:8080/"
        },
        "outputId": "93985cf6-10c1-44e2-b696-dcf0c5db4bfd"
      },
      "source": [
        "# TEST Visualizing the 404 Response Codes by Day (4f)\n",
        "Test.assertEquals(daysWithErrors404, [1, 3, 4, 5, 6, 7, 8, 9, 10, 11, 12, 13, 14, 15, 16, 17, 18, 19, 20, 21, 22], 'incorrect daysWithErrors404')\n",
        "Test.assertEquals(errors404ByDay, [243, 303, 346, 234, 372, 532, 381, 279, 314, 263, 195, 216, 287, 326, 258, 269, 255, 207, 312, 305, 288], 'incorrect errors404ByDay')"
      ],
      "execution_count": null,
      "outputs": [
        {
          "output_type": "stream",
          "name": "stdout",
          "text": [
            "1 test passed.\n",
            "1 test passed.\n"
          ]
        }
      ]
    },
    {
      "cell_type": "code",
      "metadata": {
        "id": "bLw3T5CQ_X4n",
        "colab": {
          "base_uri": "https://localhost:8080/",
          "height": 403
        },
        "outputId": "45d52a7f-244e-4bad-c01b-0dfd095d8179"
      },
      "source": [
        "fig = plt.figure(figsize=(8,4.2), facecolor='white', edgecolor='white')\n",
        "plt.axis([0, max(daysWithErrors404), 0, max(errors404ByDay)])\n",
        "plt.grid(visible=True, which='major', axis='y')\n",
        "plt.xlabel('Day')\n",
        "plt.ylabel('404 Errors')\n",
        "plt.plot(daysWithErrors404, errors404ByDay)\n",
        "pass"
      ],
      "execution_count": null,
      "outputs": [
        {
          "output_type": "display_data",
          "data": {
            "text/plain": [
              "<Figure size 800x420 with 1 Axes>"
            ],
            "image/png": "[encoded data removed]"
          },
          "metadata": {}
        }
      ]
    },
    {
      "cell_type": "markdown",
      "metadata": {
        "id": "LQTrIXHd_X4n"
      },
      "source": [
        "#### **(4g) Exercise: Top Five Days for 404 Response Codes **\n",
        "####Using the RDD `errDateSorted` you cached in the part (4e), what are the top five days for 404 response codes and the corresponding counts of 404 response codes?"
      ]
    },
    {
      "cell_type": "code",
      "metadata": {
        "id": "vaRMGWhD_X4n",
        "colab": {
          "base_uri": "https://localhost:8080/"
        },
        "outputId": "d8b7bd02-4bdb-4dce-eab7-518ea5139bcf"
      },
      "source": [
        "# TODO: Replace <FILL IN> with appropriate code\n",
        "\n",
        "topErrDate = errDateSorted.takeOrdered(5, lambda ab: -1 * ab[1])\n",
        "print('Top Five dates for 404 requests: %s' % topErrDate)"
      ],
      "execution_count": null,
      "outputs": [
        {
          "output_type": "stream",
          "name": "stdout",
          "text": [
            "Top Five dates for 404 requests: [(7, 532), (8, 381), (6, 372), (4, 346), (15, 326)]\n"
          ]
        }
      ]
    },
    {
      "cell_type": "code",
      "metadata": {
        "id": "VNmkjFV7_X4o",
        "colab": {
          "base_uri": "https://localhost:8080/"
        },
        "outputId": "6fbb8bd6-c1b2-4ef7-8203-1a312ea448d0"
      },
      "source": [
        "# TEST Five dates for 404 requests (4g)\n",
        "Test.assertEquals(topErrDate, [(7, 532), (8, 381), (6, 372), (4, 346), (15, 326)], 'incorrect topErrDate')"
      ],
      "execution_count": null,
      "outputs": [
        {
          "output_type": "stream",
          "name": "stdout",
          "text": [
            "1 test passed.\n"
          ]
        }
      ]
    },
    {
      "cell_type": "markdown",
      "metadata": {
        "id": "H6dtBVJM_X4o"
      },
      "source": [
        "#### **(4h) Exercise: Hourly 404 Response Codes**\n",
        "####Using the RDD `badRecords` you cached in the part (4a) and by hour of the day and in decreasing order, create an RDD containing how many requests had a 404 return code for each hour of the day. Cache the resulting RDD hourRecordsSorted and print that as a list."
      ]
    },
    {
      "cell_type": "code",
      "metadata": {
        "id": "GpsgCW_c_X4o",
        "colab": {
          "base_uri": "https://localhost:8080/"
        },
        "outputId": "2c9e0c0d-469c-41ea-e64a-5a23088adff2"
      },
      "source": [
        "# TODO: Replace <FILL IN> with appropriate code\n",
        "\n",
        "hourCountPairTuple = badRecords.map(lambda log: (log.date_time.hour, 1))\n",
        "\n",
        "hourRecordsSum = hourCountPairTuple.reduceByKey(lambda a, b: a + b)\n",
        "\n",
        "hourRecordsSorted = (hourRecordsSum\n",
        "                     .sortByKey()\n",
        "                     .cache())\n",
        "\n",
        "errHourList = hourRecordsSorted.collect()\n",
        "print('Top hours for 404 requests: %s' % errHourList)"
      ],
      "execution_count": null,
      "outputs": [
        {
          "output_type": "stream",
          "name": "stdout",
          "text": [
            "Top hours for 404 requests: [(0, 175), (1, 171), (2, 422), (3, 272), (4, 102), (5, 95), (6, 93), (7, 122), (8, 199), (9, 185), (10, 329), (11, 263), (12, 438), (13, 397), (14, 318), (15, 347), (16, 373), (17, 330), (18, 268), (19, 269), (20, 270), (21, 241), (22, 234), (23, 272)]\n"
          ]
        }
      ]
    },
    {
      "cell_type": "code",
      "metadata": {
        "id": "QceFpNsx_X4o",
        "colab": {
          "base_uri": "https://localhost:8080/"
        },
        "outputId": "5da64eaa-05c3-47af-bb64-3be6403bb626"
      },
      "source": [
        "# TEST Hourly 404 response codes (4h)\n",
        "Test.assertEquals(errHourList, [(0, 175), (1, 171), (2, 422), (3, 272), (4, 102), (5, 95), (6, 93), (7, 122), (8, 199), (9, 185), (10, 329), (11, 263), (12, 438), (13, 397), (14, 318), (15, 347), (16, 373), (17, 330), (18, 268), (19, 269), (20, 270), (21, 241), (22, 234), (23, 272)], 'incorrect errHourList')\n",
        "Test.assertTrue(hourRecordsSorted.is_cached, 'incorrect hourRecordsSorted.is_cached')"
      ],
      "execution_count": null,
      "outputs": [
        {
          "output_type": "stream",
          "name": "stdout",
          "text": [
            "1 test passed.\n",
            "1 test passed.\n"
          ]
        }
      ]
    },
    {
      "cell_type": "markdown",
      "metadata": {
        "id": "GLPoKCb0_X4o"
      },
      "source": [
        "#### **(4i) Exercise: Visualizing the 404 Response Codes by Hour**\n",
        "####Using the results from the previous exercise, use `matplotlib` to plot a \"Line\" or \"Bar\" graph of the 404 response codes by hour."
      ]
    },
    {
      "cell_type": "code",
      "metadata": {
        "id": "ONrb6fx8_X4o"
      },
      "source": [
        "# TODO: Replace <FILL IN> with appropriate code\n",
        "\n",
        "hoursWithErrors404 = hourRecordsSorted.map(lambda a: a[0]).collect()\n",
        "errors404ByHours = hourRecordsSorted.map(lambda a: a[1]).collect()"
      ],
      "execution_count": null,
      "outputs": []
    },
    {
      "cell_type": "code",
      "metadata": {
        "id": "bZj8eN1B_X4o",
        "colab": {
          "base_uri": "https://localhost:8080/"
        },
        "outputId": "4f567c43-a8b1-4994-d2ba-1ae268f94d02"
      },
      "source": [
        "# TEST Visualizing the 404 Response Codes by Hour (4i)\n",
        "Test.assertEquals(hoursWithErrors404, [0, 1, 2, 3, 4, 5, 6, 7, 8, 9, 10, 11, 12, 13, 14, 15, 16, 17, 18, 19, 20, 21, 22, 23], 'incorrect hoursWithErrors404')\n",
        "Test.assertEquals(errors404ByHours, [175, 171, 422, 272, 102, 95, 93, 122, 199, 185, 329, 263, 438, 397, 318, 347, 373, 330, 268, 269, 270, 241, 234, 272], 'incorrect errors404ByHours')"
      ],
      "execution_count": null,
      "outputs": [
        {
          "output_type": "stream",
          "name": "stdout",
          "text": [
            "1 test passed.\n",
            "1 test passed.\n"
          ]
        }
      ]
    },
    {
      "cell_type": "code",
      "metadata": {
        "id": "frae16vo_X4o",
        "colab": {
          "base_uri": "https://localhost:8080/",
          "height": 403
        },
        "outputId": "bec2a00d-de90-4190-cd43-fdea5777de3d"
      },
      "source": [
        "fig = plt.figure(figsize=(8,4.2), facecolor='white', edgecolor='white')\n",
        "plt.axis([0, max(hoursWithErrors404), 0, max(errors404ByHours)])\n",
        "plt.grid(visible=True, which='major', axis='y')\n",
        "plt.xlabel('Hour')\n",
        "plt.ylabel('404 Errors')\n",
        "plt.plot(hoursWithErrors404, errors404ByHours)\n",
        "pass"
      ],
      "execution_count": null,
      "outputs": [
        {
          "output_type": "display_data",
          "data": {
            "text/plain": [
              "<Figure size 800x420 with 1 Axes>"
            ],
            "image/png": "[encoded data removed]"
          },
          "metadata": {}
        }
      ]
    }
  ]
}